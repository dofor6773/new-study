{
 "cells": [
  {
   "cell_type": "code",
   "execution_count": 6,
   "metadata": {},
   "outputs": [
    {
     "data": {
      "text/plain": [
       "'c:\\\\Users\\\\human-33\\\\python-data-analysls1\\\\test1'"
      ]
     },
     "execution_count": 6,
     "metadata": {},
     "output_type": "execute_result"
    }
   ],
   "source": [
    "# 현재 위치 설정하기\n",
    "import os\n",
    "\n",
    "# 현재 디렉토리 위치 확인하기 python code\n",
    "os.getcwd()\n",
    "\n",
    "# 디렉토리 폴더 이동하기\n",
    "os.chdir(\"c:\\\\Users\\\\human-33\\\\python-data-analysls1\\\\test1\")\n",
    "\n",
    "os.getcwd()"
   ]
  },
  {
   "cell_type": "code",
   "execution_count": 7,
   "metadata": {},
   "outputs": [
    {
     "name": "stdout",
     "output_type": "stream",
     "text": [
      "<class 'list'>\n",
      "['a.py', 'a.txt', 'chapter3.ipynb']\n"
     ]
    }
   ],
   "source": [
    "# 디렉토리 폴더 안의 파일 확인하기\n",
    "os.listdir()\n",
    "\n",
    "os.chdir('c:\\\\Users\\\\human-33\\\\python-data-analysls1\\\\20240625')\n",
    "\n",
    "folerFile = os.listdir()\n",
    "print(type(folerFile))\n",
    "print(folerFile)"
   ]
  },
  {
   "cell_type": "code",
   "execution_count": 8,
   "metadata": {},
   "outputs": [],
   "source": [
    "# 파일 열고 닫기\n",
    "\n",
    "# 파일열기 -> open('파일 이름', 파일 열기모드(r,w,a))\n",
    "# 파일 열고 내용쓰기 -> open('파일 이름', 파일 열기모드(r,w,a)).write(내용)\n",
    "# 파일 닫기 -> close()\n",
    "\n",
    "f = open('a.txt', 'w').write('abc')"
   ]
  },
  {
   "cell_type": "code",
   "execution_count": 9,
   "metadata": {},
   "outputs": [
    {
     "data": {
      "text/plain": [
       "['이동민, 2019', '최재영, 2019', 'Lion, 2018']"
      ]
     },
     "execution_count": 9,
     "metadata": {},
     "output_type": "execute_result"
    }
   ],
   "source": [
    "# ['이동민, 2019', '최재영, 2019', 'Lion,2018']\n",
    "import re\n",
    "# 정규표현식 모듈 re를 호출\n",
    "example = '이동민 교수님은 다음과 같이 설명했습니다.(이동민, 2019) 그런데 다른 교수님은 이 문제에 대해서 다른 견해를 가지고 있었습니다.(최재영, 2019). 또 다른 견해도 있었습니다(Lion, 2018)'\n",
    "\n",
    "result = re.findall(r'\\((.+?)\\)', example)\n",
    "result"
   ]
  },
  {
   "cell_type": "code",
   "execution_count": 10,
   "metadata": {},
   "outputs": [
    {
     "name": "stdout",
     "output_type": "stream",
     "text": [
      "<re.Match object; span=(0, 4), match='life'>\n",
      "None\n"
     ]
    }
   ],
   "source": [
    "# 문자열 안에서 패턴 찾기 -> re.metch(패턴, 문자열)\n",
    "pattern = 'life'\n",
    "script = 'life'\n",
    "print(re.match(pattern, script))        # script 안에서 pattern을 찾기\n",
    "re.match(pattern, script).group()       # group()메소드를 통해서 일치하는 내용을 반환\n",
    "\n",
    "script = 'animal'\n",
    "print(re.match(pattern, script))        # animal에서 life를 찾을 수 없는 경우 None을 반환"
   ]
  },
  {
   "cell_type": "code",
   "execution_count": 11,
   "metadata": {},
   "outputs": [],
   "source": [
    "def refinder(pattern, script):\n",
    "    if re.match(pattern, script):\n",
    "        print('Match!')\n",
    "    else:\n",
    "        print('Not a match!')   "
   ]
  },
  {
   "cell_type": "code",
   "execution_count": 12,
   "metadata": {},
   "outputs": [
    {
     "name": "stdout",
     "output_type": "stream",
     "text": [
      "Match!\n"
     ]
    }
   ],
   "source": [
    "pattern = 'Life'\n",
    "script = 'Life is so cool'\n",
    "refinder(pattern, script)   # Match"
   ]
  },
  {
   "cell_type": "code",
   "execution_count": 13,
   "metadata": {},
   "outputs": [
    {
     "name": "stdout",
     "output_type": "stream",
     "text": [
      "Not a match!\n"
     ]
    }
   ],
   "source": [
    "pattern = 'life'  # 소문자\n",
    "script = 'Life is so cool'\n",
    "refinder(pattern, script)   # Not Match"
   ]
  },
  {
   "cell_type": "code",
   "execution_count": 14,
   "metadata": {},
   "outputs": [
    {
     "name": "stdout",
     "output_type": "stream",
     "text": [
      "Not a match!\n"
     ]
    },
    {
     "data": {
      "text/plain": [
       "'is'"
      ]
     },
     "execution_count": 14,
     "metadata": {},
     "output_type": "execute_result"
    }
   ],
   "source": [
    "pattern = 'is'  # 소문자\n",
    "script = 'Life is so cool'\n",
    "refinder(pattern, script)           # Not Match   -> 문자열 시작부터 매칭되는 경우에 한함\n",
    "re.search(pattern, script).group()  # 문자열 전체에서 패턴을 찾기"
   ]
  },
  {
   "cell_type": "code",
   "execution_count": 15,
   "metadata": {},
   "outputs": [
    {
     "data": {
      "text/plain": [
       "'cool'"
      ]
     },
     "execution_count": 15,
     "metadata": {},
     "output_type": "execute_result"
    }
   ],
   "source": [
    "pattern = 'cool'\n",
    "script = 'Life is so cool'\n",
    "re.search(pattern, script).group()  # 문자열 전체에서 패턴을 찾기"
   ]
  },
  {
   "cell_type": "code",
   "execution_count": 16,
   "metadata": {},
   "outputs": [
    {
     "data": {
      "text/plain": [
       "'My number is 511223-1?????? and yours is 521012-2??????'"
      ]
     },
     "execution_count": 16,
     "metadata": {},
     "output_type": "execute_result"
    }
   ],
   "source": [
    "# 패턴을 모두 찾아 리스트로 반환 -> findall\n",
    "number = 'My number is 511223-1****** and yours is 521012-2******'\n",
    "re.findall(r'\\d{6}', number)\n",
    "\n",
    "number.replace('*', '?')"
   ]
  },
  {
   "cell_type": "code",
   "execution_count": 17,
   "metadata": {},
   "outputs": [
    {
     "name": "stdout",
     "output_type": "stream",
     "text": [
      "['91년에 태어났습니다. 97년에는 IMF가 있었습니다. 지금은 2020년']\n",
      "['91년', '97년', '2020년']\n",
      "['91년', '97년', '2020년']\n"
     ]
    }
   ],
   "source": [
    "# 정규표현식에서의 마침표'.'와 물음표(?)는 탐욕을 뜻함\n",
    "# 마침표는  모든 문자를 뜻함(ex(0-9a-zA-zㄱ-ㅎ))\n",
    "example1 = '저는 91년에 태어났습니다. 97년에는 IMF가 있었습니다. 지금은 2020년입니다.'\n",
    "\n",
    "print(re.findall(r'\\d.+년', example1)) # (\\d)는 숫자, (.)은 아무 문자, (+)반복\n",
    "print(re.findall(r'\\d.+?년', example1)) # (\\d)는 숫자, (.)는 아무 문자, (?)1번 혹은 0번 문자 일치(년), (+)반복\n",
    "print(re.findall(r'\\d+년', example1)) # (\\d)는 숫자, (+)반복"
   ]
  },
  {
   "cell_type": "code",
   "execution_count": 18,
   "metadata": {},
   "outputs": [
    {
     "name": "stdout",
     "output_type": "stream",
     "text": [
      "['I havbe dog, really, I am not telling', ' what a pretty', ' I love this dog', '']\n",
      "['I havbe dog, really, I am not telling', ' what a pretty! I love this dog', '']\n",
      "['a', '3']\n",
      "['b', '4']\n",
      "['c', '5']\n"
     ]
    }
   ],
   "source": [
    "#문장 나누는 패턴 만들기 -> re.split(패턴, 문자열)\n",
    "sentence = 'I havbe dog, really, I am not telling. what a pretty! I love this dog.'\n",
    "print(re.split(r'[.?!]', sentence))\n",
    "print(re.split(r'[.]', sentence))\n",
    "# print(re.split(r'.', sentence))\n",
    "\n",
    "data = 'a:3; b:4; c:5'\n",
    "for i in re.split(r'; ', data):\n",
    "    print(re.split(r':', i))"
   ]
  },
  {
   "cell_type": "code",
   "execution_count": 19,
   "metadata": {},
   "outputs": [
    {
     "name": "stdout",
     "output_type": "stream",
     "text": [
      "I havbe cat, really, I am not telling. what a pretty! I love this cat.\n",
      "I am home now. I am with my cat. \n"
     ]
    }
   ],
   "source": [
    "# 문자열 대치하기(substitute)\n",
    "sebtemce = 'I havbe dog, really. I am tellting. What a pretty! I am not telling. What a pretty! I love this dog.'\n",
    "print(re.sub(r'dog', 'cat', sentence))\n",
    "\n",
    "words = 'I am home now. \\n\\n\\nI am with my cat. \\n\\n'\n",
    "print(re.sub(r'\\n', '', words))"
   ]
  },
  {
   "cell_type": "code",
   "execution_count": 22,
   "metadata": {},
   "outputs": [
    {
     "name": "stdout",
     "output_type": "stream",
     "text": [
      "['lovely', 'really']\n",
      "['lovely', 'really']\n"
     ]
    }
   ],
   "source": [
    "# 문제1: 아래 문장에서 'ly'로 끝나는 단어만 추출하기\n",
    "sentence = 'I have a lovely dog, really, I am not telling a lie'\n",
    "print(re.findall(r'\\w+ly', sentence))\n",
    "print(re.findall(r'\\w+[l-m][y-z]', sentence))"
   ]
  },
  {
   "cell_type": "code",
   "execution_count": null,
   "metadata": {},
   "outputs": [],
   "source": [
    "# Q1 -> r'a\\D+' -> 'a'로 시작하고 숫자가 아닌 문자들이 반복되는 것들\n",
    "\n",
    "a = '제 이메일 주소 greatasf@naver.com입니다. 오늘 저는 travel@daum.net라는 어쩌구 저쩌구 zxcl.xjasd@asd.com에구 모시'\n"
   ]
  }
 ],
 "metadata": {
  "kernelspec": {
   "display_name": "base",
   "language": "python",
   "name": "python3"
  },
  "language_info": {
   "codemirror_mode": {
    "name": "ipython",
    "version": 3
   },
   "file_extension": ".py",
   "mimetype": "text/x-python",
   "name": "python",
   "nbconvert_exporter": "python",
   "pygments_lexer": "ipython3",
   "version": "3.11.7"
  }
 },
 "nbformat": 4,
 "nbformat_minor": 2
}
