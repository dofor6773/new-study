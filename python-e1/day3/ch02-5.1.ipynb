{
 "cells": [
  {
   "cell_type": "code",
   "execution_count": 3,
   "metadata": {},
   "outputs": [
    {
     "data": {
      "text/plain": [
       "300"
      ]
     },
     "execution_count": 3,
     "metadata": {},
     "output_type": "execute_result"
    }
   ],
   "source": [
    "invertory={\"메로나\":[300,20], \"비비빅\":[400,4], \"죠스바\":[250,100]}\n",
    "invertory[\"메로나\"][0]"
   ]
  },
  {
   "cell_type": "code",
   "execution_count": 4,
   "metadata": {},
   "outputs": [
    {
     "ename": "TypeError",
     "evalue": "unsupported operand type(s) for +: 'int' and 'str'",
     "output_type": "error",
     "traceback": [
      "\u001b[1;31m---------------------------------------------------------------------------\u001b[0m",
      "\u001b[1;31mTypeError\u001b[0m                                 Traceback (most recent call last)",
      "Cell \u001b[1;32mIn[4], line 5\u001b[0m\n\u001b[0;32m      1\u001b[0m \u001b[38;5;66;03m#문제7 \u001b[39;00m\n\u001b[0;32m      2\u001b[0m \u001b[38;5;66;03m#위 inventory 메로나 가격 표시를 아래처럼 출력하시오\u001b[39;00m\n\u001b[0;32m      3\u001b[0m \u001b[38;5;66;03m# ex) 300원\u001b[39;00m\n\u001b[0;32m      4\u001b[0m merona\u001b[38;5;241m=\u001b[39minvertory[\u001b[38;5;124m\"\u001b[39m\u001b[38;5;124m메로나\u001b[39m\u001b[38;5;124m\"\u001b[39m][\u001b[38;5;241m0\u001b[39m]\n\u001b[1;32m----> 5\u001b[0m \u001b[38;5;28mprint\u001b[39m(\u001b[38;5;28mstr\u001b[39m(merona \u001b[38;5;241m+\u001b[39m \u001b[38;5;124m\"\u001b[39m\u001b[38;5;124m원\u001b[39m\u001b[38;5;124m\"\u001b[39m))\n",
      "\u001b[1;31mTypeError\u001b[0m: unsupported operand type(s) for +: 'int' and 'str'"
     ]
    }
   ],
   "source": [
    "#문제7 \n",
    "#위 inventory 메로나 가격 표시를 아래처럼 출력하시오\n",
    "# ex) 300원\n",
    "merona=invertory[\"메로나\"][0]\n",
    "print(str(merona + \"원\"))\n",
    "print(merona)"
   ]
  },
  {
   "cell_type": "code",
   "execution_count": null,
   "metadata": {},
   "outputs": [
    {
     "data": {
      "text/plain": [
       "4000"
      ]
     },
     "execution_count": 28,
     "metadata": {},
     "output_type": "execute_result"
    }
   ],
   "source": [
    "# 문제8\n",
    "# 아래 ice 딕셔너리에서 판매 금액의 총합을 출력하시오(출력예시) 4000원)\n",
    "# ice = {\"메로나\": 1000, \"폴라포\": 1200, \"빵빠레\": 1800}\n",
    "\n",
    "ice = {\"메로나\": 1000, \"폴라포\": 1200, \"빵빠레\": 1800}\n",
    "\n",
    "ice_list=ice[\"메로나\"] + ice[\"폴라포\"] + ice[\"빵빠레\"]\n",
    "print\n",
    "ice_list"
   ]
  },
  {
   "cell_type": "code",
   "execution_count": null,
   "metadata": {},
   "outputs": [
    {
     "data": {
      "text/plain": [
       "{'탱크보이': 1200, '폴라포': 1000, '빵빠레': 1800, '팔빙수': 2500, '아맛나': 1000}"
      ]
     },
     "execution_count": 20,
     "metadata": {},
     "output_type": "execute_result"
    }
   ],
   "source": [
    "#딕셔너리 update() 메소드 -> 키 값이 없으면 추가, 있으면 수정\n",
    "a = [1,2,3] * 3\n",
    "b = [1,2,3] + [1,2,3]\n",
    "\n",
    "#c = {1: \"a\", 2: \"b\"} + {3: \"c\", 4: \"d\"}       #error\n",
    "#c = {1: \"a\", 2: \"b\"} + {3: \"c\", 4: \"d\"}       #error\n",
    "\n",
    "icecream = {'탱크보이': 1200, \"폴라포\": 1000, \"빵빠레\": 1800}\n",
    "new_product={'팔빙수': 2500, '아맛나': 1000}\n",
    "\n",
    "icecream.update(new_product)\n",
    "icecream"
   ]
  },
  {
   "cell_type": "code",
   "execution_count": null,
   "metadata": {},
   "outputs": [],
   "source": []
  }
 ],
 "metadata": {
  "kernelspec": {
   "display_name": "base",
   "language": "python",
   "name": "python3"
  },
  "language_info": {
   "codemirror_mode": {
    "name": "ipython",
    "version": 3
   },
   "file_extension": ".py",
   "mimetype": "text/x-python",
   "name": "python",
   "nbconvert_exporter": "python",
   "pygments_lexer": "ipython3",
   "version": "3.11.7"
  }
 },
 "nbformat": 4,
 "nbformat_minor": 2
}
