{
 "cells": [
  {
   "cell_type": "code",
   "execution_count": 2,
   "metadata": {},
   "outputs": [
    {
     "ename": "OperationalError",
     "evalue": "DPY-6005: cannot connect to database (CONNECTION_ID=Kxym3+ZL8I/WmUY0y/IIsA==).\n[WinError 10060] 연결된 구성원으로부터 응답이 없어 연결하지 못했거나, 호스트로부터 응답이 없어 연결이 끊어졌습니다",
     "output_type": "error",
     "traceback": [
      "\u001b[1;31m---------------------------------------------------------------------------\u001b[0m",
      "\u001b[1;31mTimeoutError\u001b[0m                              Traceback (most recent call last)",
      "File \u001b[1;32msrc\\\\oracledb\\\\impl/thin/connection.pyx:279\u001b[0m, in \u001b[0;36moracledb.thin_impl.ThinConnImpl._connect_with_address\u001b[1;34m()\u001b[0m\n",
      "File \u001b[1;32msrc\\\\oracledb\\\\impl/thin/protocol.pyx:222\u001b[0m, in \u001b[0;36moracledb.thin_impl.Protocol._connect_phase_one\u001b[1;34m()\u001b[0m\n",
      "File \u001b[1;32msrc\\\\oracledb\\\\impl/thin/protocol.pyx:353\u001b[0m, in \u001b[0;36moracledb.thin_impl.Protocol._connect_tcp\u001b[1;34m()\u001b[0m\n",
      "File \u001b[1;32mc:\\Users\\human-33\\anaconda3\\Lib\\socket.py:851\u001b[0m, in \u001b[0;36mcreate_connection\u001b[1;34m(address, timeout, source_address, all_errors)\u001b[0m\n\u001b[0;32m    850\u001b[0m \u001b[38;5;28;01mif\u001b[39;00m \u001b[38;5;129;01mnot\u001b[39;00m all_errors:\n\u001b[1;32m--> 851\u001b[0m     \u001b[38;5;28;01mraise\u001b[39;00m exceptions[\u001b[38;5;241m0\u001b[39m]\n\u001b[0;32m    852\u001b[0m \u001b[38;5;28;01mraise\u001b[39;00m ExceptionGroup(\u001b[38;5;124m\"\u001b[39m\u001b[38;5;124mcreate_connection failed\u001b[39m\u001b[38;5;124m\"\u001b[39m, exceptions)\n",
      "File \u001b[1;32mc:\\Users\\human-33\\anaconda3\\Lib\\socket.py:836\u001b[0m, in \u001b[0;36mcreate_connection\u001b[1;34m(address, timeout, source_address, all_errors)\u001b[0m\n\u001b[0;32m    835\u001b[0m     sock\u001b[38;5;241m.\u001b[39mbind(source_address)\n\u001b[1;32m--> 836\u001b[0m sock\u001b[38;5;241m.\u001b[39mconnect(sa)\n\u001b[0;32m    837\u001b[0m \u001b[38;5;66;03m# Break explicitly a reference cycle\u001b[39;00m\n",
      "\u001b[1;31mTimeoutError\u001b[0m: [WinError 10060] 연결된 구성원으로부터 응답이 없어 연결하지 못했거나, 호스트로부터 응답이 없어 연결이 끊어졌습니다",
      "\nThe above exception was the direct cause of the following exception:\n",
      "\u001b[1;31mOperationalError\u001b[0m                          Traceback (most recent call last)",
      "Cell \u001b[1;32mIn[2], line 5\u001b[0m\n\u001b[0;32m      3\u001b[0m \u001b[38;5;66;03m# Oracle 데이터베이스 연결 설정\u001b[39;00m\n\u001b[0;32m      4\u001b[0m dsn_tns \u001b[38;5;241m=\u001b[39m oracledb\u001b[38;5;241m.\u001b[39mmakedsn(\u001b[38;5;124m'\u001b[39m\u001b[38;5;124m192.168.1.100\u001b[39m\u001b[38;5;124m'\u001b[39m, \u001b[38;5;241m1521\u001b[39m, service_name\u001b[38;5;241m=\u001b[39m\u001b[38;5;124m'\u001b[39m\u001b[38;5;124morcl.example.com\u001b[39m\u001b[38;5;124m'\u001b[39m)\n\u001b[1;32m----> 5\u001b[0m connection \u001b[38;5;241m=\u001b[39m oracledb\u001b[38;5;241m.\u001b[39mconnect(user\u001b[38;5;241m=\u001b[39m\u001b[38;5;124m'\u001b[39m\u001b[38;5;124mproject\u001b[39m\u001b[38;5;124m'\u001b[39m, password\u001b[38;5;241m=\u001b[39m\u001b[38;5;124m'\u001b[39m\u001b[38;5;124m1234\u001b[39m\u001b[38;5;124m'\u001b[39m, dsn\u001b[38;5;241m=\u001b[39mdsn_tns)\n\u001b[0;32m      7\u001b[0m \u001b[38;5;66;03m# 연결 테스트\u001b[39;00m\n\u001b[0;32m      8\u001b[0m \u001b[38;5;28;01mtry\u001b[39;00m:\n",
      "File \u001b[1;32mc:\\Users\\human-33\\anaconda3\\Lib\\site-packages\\oracledb\\connection.py:1158\u001b[0m, in \u001b[0;36m_connection_factory.<locals>.connect\u001b[1;34m(dsn, pool, conn_class, params, **kwargs)\u001b[0m\n\u001b[0;32m   1156\u001b[0m     message \u001b[38;5;241m=\u001b[39m \u001b[38;5;124m\"\u001b[39m\u001b[38;5;124mpool must be an instance of oracledb.ConnectionPool\u001b[39m\u001b[38;5;124m\"\u001b[39m\n\u001b[0;32m   1157\u001b[0m     \u001b[38;5;28;01mraise\u001b[39;00m \u001b[38;5;167;01mTypeError\u001b[39;00m(message)\n\u001b[1;32m-> 1158\u001b[0m \u001b[38;5;28;01mreturn\u001b[39;00m conn_class(dsn\u001b[38;5;241m=\u001b[39mdsn, pool\u001b[38;5;241m=\u001b[39mpool, params\u001b[38;5;241m=\u001b[39mparams, \u001b[38;5;241m*\u001b[39m\u001b[38;5;241m*\u001b[39mkwargs)\n",
      "File \u001b[1;32mc:\\Users\\human-33\\anaconda3\\Lib\\site-packages\\oracledb\\connection.py:541\u001b[0m, in \u001b[0;36mConnection.__init__\u001b[1;34m(self, dsn, pool, params, **kwargs)\u001b[0m\n\u001b[0;32m    539\u001b[0m     \u001b[38;5;28;01melse\u001b[39;00m:\n\u001b[0;32m    540\u001b[0m         impl \u001b[38;5;241m=\u001b[39m thin_impl\u001b[38;5;241m.\u001b[39mThinConnImpl(dsn, params_impl)\n\u001b[1;32m--> 541\u001b[0m         impl\u001b[38;5;241m.\u001b[39mconnect(params_impl)\n\u001b[0;32m    542\u001b[0m \u001b[38;5;28;01melse\u001b[39;00m:\n\u001b[0;32m    543\u001b[0m     impl \u001b[38;5;241m=\u001b[39m thick_impl\u001b[38;5;241m.\u001b[39mThickConnImpl(dsn, params_impl)\n",
      "File \u001b[1;32msrc\\\\oracledb\\\\impl/thin/connection.pyx:381\u001b[0m, in \u001b[0;36moracledb.thin_impl.ThinConnImpl.connect\u001b[1;34m()\u001b[0m\n",
      "File \u001b[1;32msrc\\\\oracledb\\\\impl/thin/connection.pyx:377\u001b[0m, in \u001b[0;36moracledb.thin_impl.ThinConnImpl.connect\u001b[1;34m()\u001b[0m\n",
      "File \u001b[1;32msrc\\\\oracledb\\\\impl/thin/connection.pyx:337\u001b[0m, in \u001b[0;36moracledb.thin_impl.ThinConnImpl._connect_with_params\u001b[1;34m()\u001b[0m\n",
      "File \u001b[1;32msrc\\\\oracledb\\\\impl/thin/connection.pyx:318\u001b[0m, in \u001b[0;36moracledb.thin_impl.ThinConnImpl._connect_with_description\u001b[1;34m()\u001b[0m\n",
      "File \u001b[1;32msrc\\\\oracledb\\\\impl/thin/connection.pyx:288\u001b[0m, in \u001b[0;36moracledb.thin_impl.ThinConnImpl._connect_with_address\u001b[1;34m()\u001b[0m\n",
      "File \u001b[1;32mc:\\Users\\human-33\\anaconda3\\Lib\\site-packages\\oracledb\\errors.py:182\u001b[0m, in \u001b[0;36m_raise_err\u001b[1;34m(error_num, context_error_message, cause, **args)\u001b[0m\n\u001b[0;32m    180\u001b[0m     message \u001b[38;5;241m=\u001b[39m \u001b[38;5;124mf\u001b[39m\u001b[38;5;124m\"\u001b[39m\u001b[38;5;132;01m{\u001b[39;00mmessage\u001b[38;5;132;01m}\u001b[39;00m\u001b[38;5;130;01m\\n\u001b[39;00m\u001b[38;5;132;01m{\u001b[39;00mcontext_error_message\u001b[38;5;132;01m}\u001b[39;00m\u001b[38;5;124m\"\u001b[39m\n\u001b[0;32m    181\u001b[0m error \u001b[38;5;241m=\u001b[39m _Error(message)\n\u001b[1;32m--> 182\u001b[0m \u001b[38;5;28;01mraise\u001b[39;00m error\u001b[38;5;241m.\u001b[39mexc_type(error) \u001b[38;5;28;01mfrom\u001b[39;00m \u001b[38;5;21;01mcause\u001b[39;00m\n",
      "\u001b[1;31mOperationalError\u001b[0m: DPY-6005: cannot connect to database (CONNECTION_ID=Kxym3+ZL8I/WmUY0y/IIsA==).\n[WinError 10060] 연결된 구성원으로부터 응답이 없어 연결하지 못했거나, 호스트로부터 응답이 없어 연결이 끊어졌습니다"
     ]
    }
   ],
   "source": [
    "import oracledb\n",
    "\n",
    "# Oracle 데이터베이스 연결 설정\n",
    "dsn_tns = oracledb.makedsn('192.168.1.100', 1521, service_name='orcl.example.com')\n",
    "connection = oracledb.connect(user='project', password='1234', dsn=dsn_tns)\n",
    "\n",
    "# 연결 테스트\n",
    "try:\n",
    "    cursor = connection.cursor()\n",
    "    cursor.execute(\"SELECT * FROM dual\")\n",
    "    result = cursor.fetchone()\n",
    "    print(\"Connection successful, test query result:\", result)\n",
    "except oracledb.DatabaseError as e:\n",
    "    error, = e.args\n",
    "    print(\"Database connection error:\", error)\n",
    "finally:\n",
    "    cursor.close()\n",
    "    connection.close()\n"
   ]
  }
 ],
 "metadata": {
  "kernelspec": {
   "display_name": "Python 3 (ipykernel)",
   "language": "python",
   "name": "python3"
  },
  "language_info": {
   "codemirror_mode": {
    "name": "ipython",
    "version": 3
   },
   "file_extension": ".py",
   "mimetype": "text/x-python",
   "name": "python",
   "nbconvert_exporter": "python",
   "pygments_lexer": "ipython3",
   "version": "3.11.7"
  }
 },
 "nbformat": 4,
 "nbformat_minor": 4
}
