{
 "cells": [
  {
   "cell_type": "code",
   "execution_count": 20,
   "metadata": {},
   "outputs": [
    {
     "name": "stdout",
     "output_type": "stream",
     "text": [
      "3\n",
      "7\n",
      "3\n",
      "7\n",
      "3\n",
      "10\n",
      "3\n",
      "7\n",
      "10\n",
      "17\n"
     ]
    }
   ],
   "source": [
    "# 클래스 학습\n",
    "# 기존의 배운 내용으로 만든 add함수\n",
    "result = 0\n",
    "def add(num):\n",
    "    global result\n",
    "    result += num         # 결괏값(result)에 입력값()\n",
    "    return result         # 결괏값 리턴\n",
    "\n",
    "print(add(3))             # 0 + 3 -> 3\n",
    "print(add(4))             # 3 + 4 -> 7\n",
    "\n",
    "result1 = 0\n",
    "result2 = 0\n",
    "\n",
    "def add1(num):            # 계산기1\n",
    "    global result1\n",
    "    result1 += num\n",
    "    return result1\n",
    "\n",
    "def add2(num):            # 계산기2\n",
    "    global result2\n",
    "    result2 += num\n",
    "    return result2\n",
    "\n",
    "print(add1(3))            # 0 + 3 -> 3\n",
    "print(add1(4))            # 3 + 4 -> 7\n",
    "print(add2(3))            # 0 + 3 -> 3\n",
    "print(add2(7))            # 3 + 7 -> 10\n",
    "\n",
    "#Calculator클래스 생성\n",
    "class Calculator:\n",
    "    def __init__(self):   # 생성자(변수를 초기화)와 비슷한 역할\n",
    "        self.result = 0   # result변수를 0으로 초기화\n",
    "        \n",
    "    def add(self, num):   # add 일반함수\n",
    "        self.result = self.result + num \n",
    "        return self.result\n",
    "    \n",
    "    def snb(self, num):   # snb 일반함수\n",
    "        self.result = self.result + num \n",
    "        return self.result\n",
    "    \n",
    "call = Calculator()       # 객체 생성 (실제 붕어빵)하여 call변수에 대입\n",
    "cal2 = Calculator()       # 객체 생성 (실제 붕어빵)하여 cal2변수에 대입\n",
    "cal3 = Calculator()\n",
    "cal4 = Calculator()\n",
    "cal5 = Calculator()\n",
    "\n",
    "a = call.add(3)           # class Calculator안에 있는 add함수를 호출\n",
    "print(a)                  # 3\n",
    "a = call.add(4)           # 3 + 4\n",
    "print(a)                  # 7\n",
    "a = call.add(3)           # class Calculator안에 있는 add함수를 호출\n",
    "print(a)                  # 3\n",
    "a = call.add(7)           # 3 + 7\n",
    "print(a)                  # 10"
   ]
  },
  {
   "cell_type": "code",
   "execution_count": 21,
   "metadata": {},
   "outputs": [
    {
     "name": "stdout",
     "output_type": "stream",
     "text": [
      "<class '__main__.FourCal'>\n",
      "a.first 4\n",
      "a.second 2\n",
      "b.first 3\n",
      "a.first 4\n"
     ]
    },
    {
     "ename": "AttributeError",
     "evalue": "'FourCal' object has no attribute 'add'",
     "output_type": "error",
     "traceback": [
      "\u001b[1;31m---------------------------------------------------------------------------\u001b[0m",
      "\u001b[1;31mAttributeError\u001b[0m                            Traceback (most recent call last)",
      "Cell \u001b[1;32mIn[21], line 18\u001b[0m\n\u001b[0;32m     16\u001b[0m \u001b[38;5;28mprint\u001b[39m(\u001b[38;5;124m'\u001b[39m\u001b[38;5;124mb.first\u001b[39m\u001b[38;5;124m'\u001b[39m, b\u001b[38;5;241m.\u001b[39mfirst)\n\u001b[0;32m     17\u001b[0m \u001b[38;5;28mprint\u001b[39m(\u001b[38;5;124m'\u001b[39m\u001b[38;5;124ma.first\u001b[39m\u001b[38;5;124m'\u001b[39m, a\u001b[38;5;241m.\u001b[39mfirst)\n\u001b[1;32m---> 18\u001b[0m a\u001b[38;5;241m.\u001b[39madd()\n\u001b[0;32m     19\u001b[0m a\u001b[38;5;241m.\u001b[39mmul()\n\u001b[0;32m     20\u001b[0m a\u001b[38;5;241m.\u001b[39msub()\n",
      "\u001b[1;31mAttributeError\u001b[0m: 'FourCal' object has no attribute 'add'"
     ]
    }
   ],
   "source": [
    "class FourCal():\n",
    "    def setdata(self, first, second):\n",
    "        self.first = first     #   self는 javascript의 this와 비슷\n",
    "        self.second = second\n",
    "\n",
    "a = FourCal()\n",
    "print(type(a))\n",
    "\n",
    "a.setdata(4, 2)\n",
    "print('a.first', a.first)\n",
    "print('a.second', a.second)\n",
    "FourCal.setdata(a, 4, 2)\n",
    "\n",
    "b = FourCal()\n",
    "b.setdata(3, 7)\n",
    "print('b.first', b.first)\n",
    "print('a.first', a.first)\n",
    "a.add()\n",
    "a.mul()\n",
    "a.sub()\n",
    "a.aiv()"
   ]
  },
  {
   "cell_type": "code",
   "execution_count": null,
   "metadata": {},
   "outputs": [],
   "source": [
    "class FourCal():\n",
    "    # 메소드들의 생성 순서는 상관이 없다.\n",
    "    def __init__(self, first, second):  # 생성자\n",
    "        self.first = first\n",
    "        self.second = second\n",
    "\n",
    "    def setdata(self, first, second):\n",
    "        self.first = first     # self는 javascript의 this와 비슷하다\n",
    "        self.second = second\n",
    "\n",
    "    def add(self):\n",
    "        result = self.first + self.second\n",
    "        return result\n",
    "\n",
    "    def sub(self):\n",
    "        result = self.first - self.second\n",
    "        return result\n",
    "\n",
    "    def mul(self):\n",
    "        result = self.first * self.second\n",
    "        return result\n",
    "\n",
    "    def div(self):\n",
    "        result = self.first / self.second\n",
    "        return result"
   ]
  },
  {
   "cell_type": "code",
   "execution_count": null,
   "metadata": {},
   "outputs": [
    {
     "name": "stdout",
     "output_type": "stream",
     "text": [
      "4\n",
      "2\n",
      "6\n",
      "2.0\n"
     ]
    }
   ],
   "source": [
    "a = FourCal(4, 2)     # 생성자 __init__함수가 실행됨\n",
    "print(a.first)\n",
    "print(a.second)\n",
    "print(a.add())\n",
    "print(a.div())"
   ]
  },
  {
   "cell_type": "code",
   "execution_count": null,
   "metadata": {},
   "outputs": [],
   "source": []
  }
 ],
 "metadata": {
  "kernelspec": {
   "display_name": "base",
   "language": "python",
   "name": "python3"
  },
  "language_info": {
   "codemirror_mode": {
    "name": "ipython",
    "version": 3
   },
   "file_extension": ".py",
   "mimetype": "text/x-python",
   "name": "python",
   "nbconvert_exporter": "python",
   "pygments_lexer": "ipython3",
   "version": "3.11.7"
  }
 },
 "nbformat": 4,
 "nbformat_minor": 2
}
